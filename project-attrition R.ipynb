{
 "cells": [
  {
   "cell_type": "code",
   "execution_count": 92,
   "metadata": {},
   "outputs": [],
   "source": [
    "library(dplyr)\n",
    "library(corrplot)\n",
    "library(pROC)\n",
    "library(ggplot2)\n",
    "library(grid)\n",
    "library(gridExtra)\n",
    "library(caret)\n",
    "library(gbm)\n",
    "library(rpart)\n",
    "library(rpart.plot)\n",
    "library(survival)\n",
    "library(DMwR)\n",
    "library(scales)\n",
    "library(cowplot)\n",
    "library(ggthemes)\n",
    "library(randomForest)"
   ]
  },
  {
   "cell_type": "code",
   "execution_count": 3,
   "metadata": {},
   "outputs": [],
   "source": [
    "options(warn=-1)"
   ]
  },
  {
   "cell_type": "code",
   "execution_count": 99,
   "metadata": {},
   "outputs": [],
   "source": [
    "df_train<-read.csv(\"C:/Users/hitech services/Downloads/R Project - Attrition-20190227T152745Z-001/R Project - Attrition/Attrition.csv\")"
   ]
  },
  {
   "cell_type": "code",
   "execution_count": 100,
   "metadata": {},
   "outputs": [
    {
     "name": "stdout",
     "output_type": "stream",
     "text": [
      "'data.frame':\t1470 obs. of  35 variables:\n",
      " $ Age                     : int  41 49 37 33 27 32 59 30 38 36 ...\n",
      " $ Attrition               : Factor w/ 2 levels \"No\",\"Yes\": 2 1 2 1 1 1 1 1 1 1 ...\n",
      " $ BusinessTravel          : Factor w/ 3 levels \"Non-Travel\",\"Travel_Frequently\",..: 3 2 3 2 3 2 3 3 2 3 ...\n",
      " $ DailyRate               : int  1102 279 1373 1392 591 1005 1324 1358 216 1299 ...\n",
      " $ Department              : Factor w/ 3 levels \"Human Resources\",..: 3 2 2 2 2 2 2 2 2 2 ...\n",
      " $ DistanceFromHome        : int  1 8 2 3 2 2 3 24 23 27 ...\n",
      " $ Education               : int  2 1 2 4 1 2 3 1 3 3 ...\n",
      " $ EducationField          : Factor w/ 6 levels \"Human Resources\",..: 2 2 5 2 4 2 4 2 2 4 ...\n",
      " $ EmployeeCount           : int  1 1 1 1 1 1 1 1 1 1 ...\n",
      " $ EmployeeNumber          : int  1 2 4 5 7 8 10 11 12 13 ...\n",
      " $ EnvironmentSatisfaction : int  2 3 4 4 1 4 3 4 4 3 ...\n",
      " $ Gender                  : Factor w/ 2 levels \"Female\",\"Male\": 1 2 2 1 2 2 1 2 2 2 ...\n",
      " $ HourlyRate              : int  94 61 92 56 40 79 81 67 44 94 ...\n",
      " $ JobInvolvement          : int  3 2 2 3 3 3 4 3 2 3 ...\n",
      " $ JobLevel                : int  2 2 1 1 1 1 1 1 3 2 ...\n",
      " $ JobRole                 : Factor w/ 9 levels \"Healthcare Representative\",..: 8 7 3 7 3 3 3 3 5 1 ...\n",
      " $ JobSatisfaction         : int  4 2 3 3 2 4 1 3 3 3 ...\n",
      " $ MaritalStatus           : Factor w/ 3 levels \"Divorced\",\"Married\",..: 3 2 3 2 2 3 2 1 3 2 ...\n",
      " $ MonthlyIncome           : int  5993 5130 2090 2909 3468 3068 2670 2693 9526 5237 ...\n",
      " $ MonthlyRate             : int  19479 24907 2396 23159 16632 11864 9964 13335 8787 16577 ...\n",
      " $ NumCompaniesWorked      : int  8 1 6 1 9 0 4 1 0 6 ...\n",
      " $ Over18                  : Factor w/ 1 level \"Y\": 1 1 1 1 1 1 1 1 1 1 ...\n",
      " $ OverTime                : Factor w/ 2 levels \"No\",\"Yes\": 2 1 2 2 1 1 2 1 1 1 ...\n",
      " $ PercentSalaryHike       : int  11 23 15 11 12 13 20 22 21 13 ...\n",
      " $ PerformanceRating       : int  3 4 3 3 3 3 4 4 4 3 ...\n",
      " $ RelationshipSatisfaction: int  1 4 2 3 4 3 1 2 2 2 ...\n",
      " $ StandardHours           : int  80 80 80 80 80 80 80 80 80 80 ...\n",
      " $ StockOptionLevel        : int  0 1 0 0 1 0 3 1 0 2 ...\n",
      " $ TotalWorkingYears       : int  8 10 7 8 6 8 12 1 10 17 ...\n",
      " $ TrainingTimesLastYear   : int  0 3 3 3 3 2 3 2 2 3 ...\n",
      " $ WorkLifeBalance         : int  1 3 3 3 3 2 2 3 3 2 ...\n",
      " $ YearsAtCompany          : int  6 10 0 8 2 7 1 1 9 7 ...\n",
      " $ YearsInCurrentRole      : int  4 7 0 7 2 7 0 0 7 7 ...\n",
      " $ YearsSinceLastPromotion : int  0 1 0 3 2 3 0 0 1 7 ...\n",
      " $ YearsWithCurrManager    : int  5 7 0 0 2 6 0 0 8 7 ...\n"
     ]
    }
   ],
   "source": [
    "#datatype of attrtion data frame\n",
    "str(df_train)"
   ]
  },
  {
   "cell_type": "code",
   "execution_count": 101,
   "metadata": {},
   "outputs": [
    {
     "data": {
      "text/html": [
       "<table>\n",
       "<thead><tr><th scope=col>Age</th><th scope=col>Attrition</th><th scope=col>BusinessTravel</th><th scope=col>DailyRate</th><th scope=col>Department</th><th scope=col>DistanceFromHome</th><th scope=col>Education</th><th scope=col>EducationField</th><th scope=col>EmployeeCount</th><th scope=col>EmployeeNumber</th><th scope=col>...</th><th scope=col>RelationshipSatisfaction</th><th scope=col>StandardHours</th><th scope=col>StockOptionLevel</th><th scope=col>TotalWorkingYears</th><th scope=col>TrainingTimesLastYear</th><th scope=col>WorkLifeBalance</th><th scope=col>YearsAtCompany</th><th scope=col>YearsInCurrentRole</th><th scope=col>YearsSinceLastPromotion</th><th scope=col>YearsWithCurrManager</th></tr></thead>\n",
       "<tbody>\n",
       "\t<tr><td>41                    </td><td>Yes                   </td><td>Travel_Rarely         </td><td>1102                  </td><td>Sales                 </td><td>1                     </td><td>2                     </td><td>Life Sciences         </td><td>1                     </td><td>1                     </td><td>...                   </td><td>1                     </td><td>80                    </td><td>0                     </td><td> 8                    </td><td>0                     </td><td>1                     </td><td> 6                    </td><td>4                     </td><td>0                     </td><td>5                     </td></tr>\n",
       "\t<tr><td>49                        </td><td>No                        </td><td>Travel_Frequently         </td><td> 279                      </td><td>Research &amp; Development</td><td>8                         </td><td>1                         </td><td>Life Sciences             </td><td>1                         </td><td>2                         </td><td>...                       </td><td>4                         </td><td>80                        </td><td>1                         </td><td>10                        </td><td>3                         </td><td>3                         </td><td>10                        </td><td>7                         </td><td>1                         </td><td>7                         </td></tr>\n",
       "\t<tr><td>37                                                       </td><td>Yes                                                      </td><td><span style=white-space:pre-wrap>Travel_Rarely    </span></td><td>1373                                                     </td><td>Research &amp; Development                               </td><td>2                                                        </td><td>2                                                        </td><td><span style=white-space:pre-wrap>Other        </span>    </td><td>1                                                        </td><td>4                                                        </td><td>...                                                      </td><td>2                                                        </td><td>80                                                       </td><td>0                                                        </td><td> 7                                                       </td><td>3                                                        </td><td>3                                                        </td><td> 0                                                       </td><td>0                                                        </td><td>0                                                        </td><td>0                                                        </td></tr>\n",
       "\t<tr><td>33                        </td><td>No                        </td><td>Travel_Frequently         </td><td>1392                      </td><td>Research &amp; Development</td><td>3                         </td><td>4                         </td><td>Life Sciences             </td><td>1                         </td><td>5                         </td><td>...                       </td><td>3                         </td><td>80                        </td><td>0                         </td><td> 8                        </td><td>3                         </td><td>3                         </td><td> 8                        </td><td>7                         </td><td>3                         </td><td>0                         </td></tr>\n",
       "\t<tr><td>27                                                       </td><td>No                                                       </td><td><span style=white-space:pre-wrap>Travel_Rarely    </span></td><td> 591                                                     </td><td>Research &amp; Development                               </td><td>2                                                        </td><td>1                                                        </td><td><span style=white-space:pre-wrap>Medical      </span>    </td><td>1                                                        </td><td>7                                                        </td><td>...                                                      </td><td>4                                                        </td><td>80                                                       </td><td>1                                                        </td><td> 6                                                       </td><td>3                                                        </td><td>3                                                        </td><td> 2                                                       </td><td>2                                                        </td><td>2                                                        </td><td>2                                                        </td></tr>\n",
       "\t<tr><td>32                        </td><td>No                        </td><td>Travel_Frequently         </td><td>1005                      </td><td>Research &amp; Development</td><td>2                         </td><td>2                         </td><td>Life Sciences             </td><td>1                         </td><td>8                         </td><td>...                       </td><td>3                         </td><td>80                        </td><td>0                         </td><td> 8                        </td><td>2                         </td><td>2                         </td><td> 7                        </td><td>7                         </td><td>3                         </td><td>6                         </td></tr>\n",
       "</tbody>\n",
       "</table>\n"
      ],
      "text/latex": [
       "\\begin{tabular}{r|lllllllllllllllllllllllllllllllllll}\n",
       " Age & Attrition & BusinessTravel & DailyRate & Department & DistanceFromHome & Education & EducationField & EmployeeCount & EmployeeNumber & ... & RelationshipSatisfaction & StandardHours & StockOptionLevel & TotalWorkingYears & TrainingTimesLastYear & WorkLifeBalance & YearsAtCompany & YearsInCurrentRole & YearsSinceLastPromotion & YearsWithCurrManager\\\\\n",
       "\\hline\n",
       "\t 41                     & Yes                    & Travel\\_Rarely        & 1102                   & Sales                  & 1                      & 2                      & Life Sciences          & 1                      & 1                      & ...                    & 1                      & 80                     & 0                      &  8                     & 0                      & 1                      &  6                     & 4                      & 0                      & 5                     \\\\\n",
       "\t 49                       & No                       & Travel\\_Frequently      &  279                     & Research \\& Development & 8                        & 1                        & Life Sciences            & 1                        & 2                        & ...                      & 4                        & 80                       & 1                        & 10                       & 3                        & 3                        & 10                       & 7                        & 1                        & 7                       \\\\\n",
       "\t 37                       & Yes                      & Travel\\_Rarely          & 1373                     & Research \\& Development & 2                        & 2                        & Other                    & 1                        & 4                        & ...                      & 2                        & 80                       & 0                        &  7                       & 3                        & 3                        &  0                       & 0                        & 0                        & 0                       \\\\\n",
       "\t 33                       & No                       & Travel\\_Frequently      & 1392                     & Research \\& Development & 3                        & 4                        & Life Sciences            & 1                        & 5                        & ...                      & 3                        & 80                       & 0                        &  8                       & 3                        & 3                        &  8                       & 7                        & 3                        & 0                       \\\\\n",
       "\t 27                       & No                       & Travel\\_Rarely          &  591                     & Research \\& Development & 2                        & 1                        & Medical                  & 1                        & 7                        & ...                      & 4                        & 80                       & 1                        &  6                       & 3                        & 3                        &  2                       & 2                        & 2                        & 2                       \\\\\n",
       "\t 32                       & No                       & Travel\\_Frequently      & 1005                     & Research \\& Development & 2                        & 2                        & Life Sciences            & 1                        & 8                        & ...                      & 3                        & 80                       & 0                        &  8                       & 2                        & 2                        &  7                       & 7                        & 3                        & 6                       \\\\\n",
       "\\end{tabular}\n"
      ],
      "text/markdown": [
       "\n",
       "| Age | Attrition | BusinessTravel | DailyRate | Department | DistanceFromHome | Education | EducationField | EmployeeCount | EmployeeNumber | ... | RelationshipSatisfaction | StandardHours | StockOptionLevel | TotalWorkingYears | TrainingTimesLastYear | WorkLifeBalance | YearsAtCompany | YearsInCurrentRole | YearsSinceLastPromotion | YearsWithCurrManager |\n",
       "|---|---|---|---|---|---|---|---|---|---|---|---|---|---|---|---|---|---|---|---|---|\n",
       "| 41                     | Yes                    | Travel_Rarely          | 1102                   | Sales                  | 1                      | 2                      | Life Sciences          | 1                      | 1                      | ...                    | 1                      | 80                     | 0                      |  8                     | 0                      | 1                      |  6                     | 4                      | 0                      | 5                      |\n",
       "| 49                     | No                     | Travel_Frequently      |  279                   | Research & Development | 8                      | 1                      | Life Sciences          | 1                      | 2                      | ...                    | 4                      | 80                     | 1                      | 10                     | 3                      | 3                      | 10                     | 7                      | 1                      | 7                      |\n",
       "| 37                     | Yes                    | Travel_Rarely          | 1373                   | Research & Development | 2                      | 2                      | Other                  | 1                      | 4                      | ...                    | 2                      | 80                     | 0                      |  7                     | 3                      | 3                      |  0                     | 0                      | 0                      | 0                      |\n",
       "| 33                     | No                     | Travel_Frequently      | 1392                   | Research & Development | 3                      | 4                      | Life Sciences          | 1                      | 5                      | ...                    | 3                      | 80                     | 0                      |  8                     | 3                      | 3                      |  8                     | 7                      | 3                      | 0                      |\n",
       "| 27                     | No                     | Travel_Rarely          |  591                   | Research & Development | 2                      | 1                      | Medical                | 1                      | 7                      | ...                    | 4                      | 80                     | 1                      |  6                     | 3                      | 3                      |  2                     | 2                      | 2                      | 2                      |\n",
       "| 32                     | No                     | Travel_Frequently      | 1005                   | Research & Development | 2                      | 2                      | Life Sciences          | 1                      | 8                      | ...                    | 3                      | 80                     | 0                      |  8                     | 2                      | 2                      |  7                     | 7                      | 3                      | 6                      |\n",
       "\n"
      ],
      "text/plain": [
       "  Age Attrition BusinessTravel    DailyRate Department            \n",
       "1 41  Yes       Travel_Rarely     1102      Sales                 \n",
       "2 49  No        Travel_Frequently  279      Research & Development\n",
       "3 37  Yes       Travel_Rarely     1373      Research & Development\n",
       "4 33  No        Travel_Frequently 1392      Research & Development\n",
       "5 27  No        Travel_Rarely      591      Research & Development\n",
       "6 32  No        Travel_Frequently 1005      Research & Development\n",
       "  DistanceFromHome Education EducationField EmployeeCount EmployeeNumber ...\n",
       "1 1                2         Life Sciences  1             1              ...\n",
       "2 8                1         Life Sciences  1             2              ...\n",
       "3 2                2         Other          1             4              ...\n",
       "4 3                4         Life Sciences  1             5              ...\n",
       "5 2                1         Medical        1             7              ...\n",
       "6 2                2         Life Sciences  1             8              ...\n",
       "  RelationshipSatisfaction StandardHours StockOptionLevel TotalWorkingYears\n",
       "1 1                        80            0                 8               \n",
       "2 4                        80            1                10               \n",
       "3 2                        80            0                 7               \n",
       "4 3                        80            0                 8               \n",
       "5 4                        80            1                 6               \n",
       "6 3                        80            0                 8               \n",
       "  TrainingTimesLastYear WorkLifeBalance YearsAtCompany YearsInCurrentRole\n",
       "1 0                     1                6             4                 \n",
       "2 3                     3               10             7                 \n",
       "3 3                     3                0             0                 \n",
       "4 3                     3                8             7                 \n",
       "5 3                     3                2             2                 \n",
       "6 2                     2                7             7                 \n",
       "  YearsSinceLastPromotion YearsWithCurrManager\n",
       "1 0                       5                   \n",
       "2 1                       7                   \n",
       "3 0                       0                   \n",
       "4 3                       0                   \n",
       "5 2                       2                   \n",
       "6 3                       6                   "
      ]
     },
     "metadata": {},
     "output_type": "display_data"
    }
   ],
   "source": [
    "head(df_train)"
   ]
  },
  {
   "cell_type": "code",
   "execution_count": 102,
   "metadata": {},
   "outputs": [
    {
     "data": {
      "text/plain": [
       "      Age        Attrition            BusinessTravel   DailyRate     \n",
       " Min.   :18.00   No :1233   Non-Travel       : 150   Min.   : 102.0  \n",
       " 1st Qu.:30.00   Yes: 237   Travel_Frequently: 277   1st Qu.: 465.0  \n",
       " Median :36.00              Travel_Rarely    :1043   Median : 802.0  \n",
       " Mean   :36.92                                       Mean   : 802.5  \n",
       " 3rd Qu.:43.00                                       3rd Qu.:1157.0  \n",
       " Max.   :60.00                                       Max.   :1499.0  \n",
       "                                                                     \n",
       "                  Department  DistanceFromHome   Education    \n",
       " Human Resources       : 63   Min.   : 1.000   Min.   :1.000  \n",
       " Research & Development:961   1st Qu.: 2.000   1st Qu.:2.000  \n",
       " Sales                 :446   Median : 7.000   Median :3.000  \n",
       "                              Mean   : 9.193   Mean   :2.913  \n",
       "                              3rd Qu.:14.000   3rd Qu.:4.000  \n",
       "                              Max.   :29.000   Max.   :5.000  \n",
       "                                                              \n",
       "          EducationField EmployeeCount EmployeeNumber   EnvironmentSatisfaction\n",
       " Human Resources : 27    Min.   :1     Min.   :   1.0   Min.   :1.000          \n",
       " Life Sciences   :606    1st Qu.:1     1st Qu.: 491.2   1st Qu.:2.000          \n",
       " Marketing       :159    Median :1     Median :1020.5   Median :3.000          \n",
       " Medical         :464    Mean   :1     Mean   :1024.9   Mean   :2.722          \n",
       " Other           : 82    3rd Qu.:1     3rd Qu.:1555.8   3rd Qu.:4.000          \n",
       " Technical Degree:132    Max.   :1     Max.   :2068.0   Max.   :4.000          \n",
       "                                                                               \n",
       "    Gender      HourlyRate     JobInvolvement    JobLevel    \n",
       " Female:588   Min.   : 30.00   Min.   :1.00   Min.   :1.000  \n",
       " Male  :882   1st Qu.: 48.00   1st Qu.:2.00   1st Qu.:1.000  \n",
       "              Median : 66.00   Median :3.00   Median :2.000  \n",
       "              Mean   : 65.89   Mean   :2.73   Mean   :2.064  \n",
       "              3rd Qu.: 83.75   3rd Qu.:3.00   3rd Qu.:3.000  \n",
       "              Max.   :100.00   Max.   :4.00   Max.   :5.000  \n",
       "                                                             \n",
       "                      JobRole    JobSatisfaction  MaritalStatus MonthlyIncome  \n",
       " Sales Executive          :326   Min.   :1.000   Divorced:327   Min.   : 1009  \n",
       " Research Scientist       :292   1st Qu.:2.000   Married :673   1st Qu.: 2911  \n",
       " Laboratory Technician    :259   Median :3.000   Single  :470   Median : 4919  \n",
       " Manufacturing Director   :145   Mean   :2.729                  Mean   : 6503  \n",
       " Healthcare Representative:131   3rd Qu.:4.000                  3rd Qu.: 8379  \n",
       " Manager                  :102   Max.   :4.000                  Max.   :19999  \n",
       " (Other)                  :215                                                 \n",
       "  MonthlyRate    NumCompaniesWorked Over18   OverTime   PercentSalaryHike\n",
       " Min.   : 2094   Min.   :0.000      Y:1470   No :1054   Min.   :11.00    \n",
       " 1st Qu.: 8047   1st Qu.:1.000               Yes: 416   1st Qu.:12.00    \n",
       " Median :14236   Median :2.000                          Median :14.00    \n",
       " Mean   :14313   Mean   :2.693                          Mean   :15.21    \n",
       " 3rd Qu.:20462   3rd Qu.:4.000                          3rd Qu.:18.00    \n",
       " Max.   :26999   Max.   :9.000                          Max.   :25.00    \n",
       "                                                                         \n",
       " PerformanceRating RelationshipSatisfaction StandardHours StockOptionLevel\n",
       " Min.   :3.000     Min.   :1.000            Min.   :80    Min.   :0.0000  \n",
       " 1st Qu.:3.000     1st Qu.:2.000            1st Qu.:80    1st Qu.:0.0000  \n",
       " Median :3.000     Median :3.000            Median :80    Median :1.0000  \n",
       " Mean   :3.154     Mean   :2.712            Mean   :80    Mean   :0.7939  \n",
       " 3rd Qu.:3.000     3rd Qu.:4.000            3rd Qu.:80    3rd Qu.:1.0000  \n",
       " Max.   :4.000     Max.   :4.000            Max.   :80    Max.   :3.0000  \n",
       "                                                                          \n",
       " TotalWorkingYears TrainingTimesLastYear WorkLifeBalance YearsAtCompany  \n",
       " Min.   : 0.00     Min.   :0.000         Min.   :1.000   Min.   : 0.000  \n",
       " 1st Qu.: 6.00     1st Qu.:2.000         1st Qu.:2.000   1st Qu.: 3.000  \n",
       " Median :10.00     Median :3.000         Median :3.000   Median : 5.000  \n",
       " Mean   :11.28     Mean   :2.799         Mean   :2.761   Mean   : 7.008  \n",
       " 3rd Qu.:15.00     3rd Qu.:3.000         3rd Qu.:3.000   3rd Qu.: 9.000  \n",
       " Max.   :40.00     Max.   :6.000         Max.   :4.000   Max.   :40.000  \n",
       "                                                                         \n",
       " YearsInCurrentRole YearsSinceLastPromotion YearsWithCurrManager\n",
       " Min.   : 0.000     Min.   : 0.000          Min.   : 0.000      \n",
       " 1st Qu.: 2.000     1st Qu.: 0.000          1st Qu.: 2.000      \n",
       " Median : 3.000     Median : 1.000          Median : 3.000      \n",
       " Mean   : 4.229     Mean   : 2.188          Mean   : 4.123      \n",
       " 3rd Qu.: 7.000     3rd Qu.: 3.000          3rd Qu.: 7.000      \n",
       " Max.   :18.000     Max.   :15.000          Max.   :17.000      \n",
       "                                                                "
      ]
     },
     "metadata": {},
     "output_type": "display_data"
    }
   ],
   "source": [
    "summary(df_train)"
   ]
  },
  {
   "cell_type": "code",
   "execution_count": 103,
   "metadata": {},
   "outputs": [
    {
     "data": {
      "image/png": "[encoded data removed]",
      "text/plain": [
       "plot without title"
      ]
     },
     "metadata": {},
     "output_type": "display_data"
    }
   ],
   "source": [
    "g1 <- ggplot(df_train, \n",
    "            aes(x = MonthlyIncome, fill = Attrition)) + \n",
    "            geom_density(alpha = 0.7) + \n",
    "            scale_fill_manual(values = c(\"#386cb0\",\"#85ddb0\"))\n",
    "\n",
    "g2 <- ggplot(df_train, \n",
    "            aes(x = HourlyRate, fill = Attrition)) + \n",
    "            geom_density(alpha = 0.7) + \n",
    "            scale_fill_manual(values = c(\"#386cb0\",\"#85ddb0\"))\n",
    "\n",
    "g3 <- ggplot(df_train, \n",
    "            aes(x = DailyRate, fill = Attrition)) + \n",
    "            geom_density(alpha = 0.7) + \n",
    "            scale_fill_manual(values = c(\"#386cb0\",\"#85ddb0\"))\n",
    "\n",
    "g4 <- ggplot(df_train, \n",
    "            aes(x = MonthlyRate, fill = Attrition)) + \n",
    "            geom_density(alpha = 0.7) + \n",
    "            scale_fill_manual(values = c(\"#386cb0\",\"#85ddb0\"))\n",
    "\n",
    "grid.arrange(g1, g2, g3, g4, ncol = 2, nrow = 2)"
   ]
  },
  {
   "cell_type": "code",
   "execution_count": 104,
   "metadata": {},
   "outputs": [
    {
     "data": {
      "image/png": "[encoded data removed]",
      "text/plain": [
       "plot without title"
      ]
     },
     "metadata": {},
     "output_type": "display_data"
    }
   ],
   "source": [
    "ggplot(df_train, \n",
    "        aes(x = OverTime, group = Attrition)) + \n",
    "        geom_bar(aes(y = ..prop.., fill = factor(..x..)), \n",
    "                   stat=\"count\", \n",
    "                   alpha = 0.7) +\n",
    "        geom_text(aes(label = scales::percent(..prop..), y = ..prop.. ), \n",
    "                   stat= \"count\", \n",
    "                   vjust = -.5) +\n",
    "        labs(y = \"Percentage\", fill= \"OverTime\") +\n",
    "        facet_grid(~Attrition) +\n",
    "        scale_fill_manual(values = c(\"#2f00ff\",\"#de1212\")) + \n",
    "        theme(legend.position = \"none\", plot.title = element_text(hjust = 0.5)) + \n",
    "        ggtitle(\"Attrition\")"
   ]
  },
  {
   "cell_type": "code",
   "execution_count": 12,
   "metadata": {},
   "outputs": [
    {
     "data": {
      "image/png": "[encoded data removed]",
      "text/plain": [
       "plot without title"
      ]
     },
     "metadata": {},
     "output_type": "display_data"
    }
   ],
   "source": [
    "ggplot(df_train, \n",
    "        aes(x= WorkLifeBalance, y=DistanceFromHome, group = WorkLifeBalance, fill = WorkLifeBalance)) + \n",
    "        geom_boxplot(alpha=0.7) + \n",
    "        theme(legend.position=\"none\") + \n",
    "        facet_wrap(~ Attrition) + \n",
    "        ggtitle(\"Attrition\") + \n",
    "        theme(plot.title = element_text(hjust = 0.5))"
   ]
  },
  {
   "cell_type": "code",
   "execution_count": 13,
   "metadata": {},
   "outputs": [
    {
     "data": {
      "image/png": "[encoded data removed]",
      "text/plain": [
       "plot without title"
      ]
     },
     "metadata": {},
     "output_type": "display_data"
    }
   ],
   "source": [
    "ggplot(df_train, \n",
    "        aes(x= BusinessTravel,  group=Attrition)) + \n",
    "        geom_bar(aes(y = ..prop.., fill = factor(..x..)), \n",
    "                   stat=\"count\", \n",
    "                   alpha = 0.7) +\n",
    "        geom_text(aes(label = scales::percent(..prop..), y = ..prop.. ), \n",
    "                   stat= \"count\", \n",
    "                   vjust = -.5) +\n",
    "        labs(y = \"Percentage\", fill=\"Business Travel\") +\n",
    "        facet_grid(~Attrition) +\n",
    "        scale_y_continuous(labels=percent) + \n",
    "        scale_fill_manual(values = c(\"#fc7303\",\"#00f7e7\", \"#3f9134\")) + \n",
    "        theme(legend.position = \"none\", plot.title = element_text(hjust = 0.5)) + \n",
    "        ggtitle(\"Attrition\")"
   ]
  },
  {
   "cell_type": "code",
   "execution_count": 14,
   "metadata": {},
   "outputs": [
    {
     "data": {
      "image/png": "[encoded data removed]",
      "text/plain": [
       "plot without title"
      ]
     },
     "metadata": {},
     "output_type": "display_data"
    }
   ],
   "source": [
    "p9 <- ggplot(df_train, aes(x=JobSatisfaction)) + ggtitle(\"JobSatisfaction\") + xlab(\"JobSatisfaction\") +\n",
    "  geom_bar(aes(y = 100*(..count..)/sum(..count..)), width = 0.5) + ylab(\"Percentage\") + coord_flip() + theme_minimal()\n",
    "p10 <- ggplot(df_train, aes(x=MaritalStatus)) + ggtitle(\"MaritalStatus\") + xlab(\"MaritalStatus\") + \n",
    "  geom_bar(aes(y = 100*(..count..)/sum(..count..)), width = 0.5) + ylab(\"Percentage\") + coord_flip() + theme_minimal()\n",
    "p11 <- ggplot(df_train, aes(x=OverTime)) + ggtitle(\"OverTime\") + xlab(\"OverTime\") + \n",
    "  geom_bar(aes(y = 100*(..count..)/sum(..count..)), width = 0.5) + ylab(\"Percentage\") + coord_flip() + theme_minimal()\n",
    "p12 <- ggplot(df_train, aes(x=StockOptionLevel)) + ggtitle(\"Dependents\") + xlab(\"Dependents\") +\n",
    "  geom_bar(aes(y = 100*(..count..)/sum(..count..)), width = 0.5) + ylab(\"Percentage\") + coord_flip() + theme_minimal()\n",
    "p13 <- ggplot(df_train, aes(x=WorkLifeBalance)) + ggtitle(\"WorkLifeBalance\") + xlab(\"WorkLifeBalance\") +\n",
    "  geom_bar(aes(y = 100*(..count..)/sum(..count..)), width = 0.5) + ylab(\"Percentage\") + coord_flip() + theme_minimal()\n",
    "p14 <- ggplot(df_train, aes(x=Attrition)) + ggtitle(\"Attrition\") + xlab(\"Attrition\") +\n",
    "  geom_bar(aes(y = 100*(..count..)/sum(..count..)), width = 0.5) + ylab(\"Percentage\") + coord_flip() + theme_minimal()\n",
    "grid.arrange(p9, p10, p11, p12,p13,p14, ncol=2)"
   ]
  },
  {
   "cell_type": "code",
   "execution_count": 15,
   "metadata": {},
   "outputs": [
    {
     "data": {
      "image/png": "[encoded data removed]",
      "text/plain": [
       "plot without title"
      ]
     },
     "metadata": {},
     "output_type": "display_data"
    }
   ],
   "source": [
    "# Categorical variable analysis\n",
    "p1 <- ggplot(df_train, aes(x=BusinessTravel)) + ggtitle(\"BusinessTravel\") + xlab(\"BusinessTravel\") +\n",
    "geom_bar(aes(y = 100*(..count..)/sum(..count..)), width = 0.5) + ylab(\"Percentage\") + coord_flip() + theme_minimal()\n",
    "p2 <- ggplot(df_train, aes(x=Department)) + ggtitle(\"Department\") + xlab(\"Department\") + \n",
    "geom_bar(aes(y = 100*(..count..)/sum(..count..)), width = 0.5) + ylab(\"Percentage\") + coord_flip() + theme_minimal()\n",
    "p3 <- ggplot(df_train, aes(x=EducationField)) + ggtitle(\"EducationField\") + xlab(\"EducatioField\") + \n",
    "geom_bar(aes(y = 100*(..count..)/sum(..count..)), width = 0.5) + ylab(\"Percentage\") + coord_flip() + theme_minimal()\n",
    "p4 <- ggplot(df_train, aes(x=Gender)) + ggtitle(\"Gender\") + xlab(\"Gender\") +\n",
    "geom_bar(aes(y = 100*(..count..)/sum(..count..)), width = 0.5) + ylab(\"Percentage\") + coord_flip() + theme_minimal()\n",
    "grid.arrange(p1, p2, p3, p4, ncol=2)"
   ]
  },
  {
   "cell_type": "code",
   "execution_count": 16,
   "metadata": {},
   "outputs": [
    {
     "data": {
      "image/png": "[encoded data removed]",
      "text/plain": [
       "plot without title"
      ]
     },
     "metadata": {},
     "output_type": "display_data"
    }
   ],
   "source": [
    "options(repr.plot.width=8, repr.plot.height=4)\n",
    "\n",
    "attritions_number <- df_train %>% group_by(Attrition) %>% summarise(Count=n()) %>%\n",
    "ggplot(aes(x=Attrition, y=Count)) + geom_bar(stat=\"identity\", fill=\"orange\", color=\"grey40\") + theme_bw() + coord_flip() + \n",
    "geom_text(aes(x=Attrition, y=0.01, label= Count),\n",
    "            hjust=-0.8, vjust=-1, size=3, \n",
    "            colour=\"black\", fontface=\"bold\",\n",
    "         angle=360) + labs(title=\"Employee Attrition (Amount)\", x=\"Employee Attrition\",y=\"Amount\") + theme(plot.title=element_text(hjust=0.5))\n",
    "attrition_percentage <- df_train %>% group_by(Attrition) %>% summarise(Count=n()) %>% \n",
    "mutate(pct=round(prop.table(Count),2) * 100) %>% \n",
    "ggplot(aes(x=Attrition, y=pct)) + geom_bar(stat=\"identity\", fill = \"dodgerblue\", color=\"grey40\") + \n",
    "geom_text(aes(x=Attrition, y=0.01, label= sprintf(\"%.2f%%\", pct)),\n",
    "            hjust=0.5, vjust=-3, size=4, \n",
    "            colour=\"black\", fontface=\"bold\") + theme_bw() + labs(x=\"Employee Attrition\", y=\"Percentage\") + \n",
    "labs(title=\"Employee Attrition (%)\") + theme(plot.title=element_text(hjust=0.5))\n",
    "\n",
    "\n",
    "plot_grid(attritions_number, attrition_percentage, align=\"h\", ncol=2)"
   ]
  },
  {
   "cell_type": "code",
   "execution_count": 17,
   "metadata": {},
   "outputs": [
    {
     "data": {
      "image/png": "[encoded data removed]",
      "text/plain": [
       "plot without title"
      ]
     },
     "metadata": {},
     "output_type": "display_data"
    }
   ],
   "source": [
    "# Boxplot with attrition in the X-axis and Job Satisfaction in the y-Axis\n",
    "options(repr.plot.width=8, repr.plot.height=6) \n",
    "\n",
    "box.attrition <- df_train %>% select(Attrition, JobSatisfaction, Gender) %>% \n",
    "ggplot(aes(x=Attrition, y=JobSatisfaction, fill=Attrition)) + geom_boxplot(color=\"black\") + theme_minimal() + facet_wrap(~Gender) + \n",
    "scale_fill_manual(values=c(\"#e9f502\", \"#07fa02\"))\n",
    "\n",
    "# Distribution of Job Satisfaction\n",
    "dist.satisfaction <- df_train %>% select(JobSatisfaction) %>%\n",
    "ggplot(aes(x=JobSatisfaction)) + geom_density(color=\"#02fac4\", fill=\"#43debf\", trim=TRUE) + theme_tufte() + xlim(range(c(1,4)))\n",
    "\n",
    "plot_grid(box.attrition, dist.satisfaction, nrow=2)"
   ]
  },
  {
   "cell_type": "code",
   "execution_count": 18,
   "metadata": {},
   "outputs": [
    {
     "data": {
      "image/png": "[encoded data removed]",
      "text/plain": [
       "plot without title"
      ]
     },
     "metadata": {},
     "output_type": "display_data"
    }
   ],
   "source": [
    "p <- ggplot(df_train, aes(x=Gender, y=MonthlyIncome, color=Gender, fill=Gender)) + geom_boxplot() + \n",
    "scale_fill_manual(values=c(\"#00b1fc\", \"#5882FA\")) + scale_color_manual(values=c(\"#ff0000\", \"#ff0000\")) +\n",
    "coord_flip() + labs(title=\"Are there any Gender Disparities in Income?\")\n",
    "\n",
    "p"
   ]
  },
  {
   "cell_type": "code",
   "execution_count": 19,
   "metadata": {},
   "outputs": [
    {
     "data": {
      "image/png": "[encoded data removed]",
      "text/plain": [
       "plot without title"
      ]
     },
     "metadata": {},
     "output_type": "display_data"
    }
   ],
   "source": [
    "ggplot(data=df_train, aes(df_train$Age)) + \n",
    "        geom_histogram(breaks=seq(20, 50, by=2), \n",
    "                       col=\"red\", \n",
    "                       aes(fill=..count..))+\n",
    "        labs(x=\"Age\", y=\"Count\")+\n",
    "        scale_fill_gradient(\"Count\", low=\"green\", high=\"red\")"
   ]
  },
  {
   "cell_type": "code",
   "execution_count": 20,
   "metadata": {},
   "outputs": [
    {
     "data": {
      "image/png": "[encoded data removed]",
      "text/plain": [
       "plot without title"
      ]
     },
     "metadata": {},
     "output_type": "display_data"
    }
   ],
   "source": [
    "a1 <- df_train %>%\n",
    "        group_by(BusinessTravel) %>%\n",
    "        tally() %>%\n",
    "        ggplot(aes(x = BusinessTravel, y = n,fill=BusinessTravel)) +\n",
    "        geom_bar(stat = \"identity\") +\n",
    "        theme_minimal()+\n",
    "        labs(x=\"Business Travel\", y=\"Number Attriation\")+\n",
    "        ggtitle(\"Attrition according to the Business Travel\")+\n",
    "        geom_text(aes(label = n), vjust = -0.5, position = position_dodge(0.9))\n",
    "a2<- df_train %>%\n",
    "        group_by(BusinessTravel, Attrition) %>%\n",
    "        tally() %>%\n",
    "        ggplot(aes(x = BusinessTravel, y = n,fill=Attrition)) +\n",
    "        geom_bar(stat = \"identity\") +\n",
    "        theme_minimal()+\n",
    "        labs(x=\"Business Travel\", y=\"Number Attriation\")+\n",
    "        ggtitle(\"Attrition according to the Business Travel\")+\n",
    "        geom_text(aes(label = n), vjust = -0.5, position = position_dodge(0.9))\n",
    "\n",
    "\n",
    "grid.arrange(a1,a2)"
   ]
  },
  {
   "cell_type": "code",
   "execution_count": 21,
   "metadata": {},
   "outputs": [
    {
     "data": {
      "image/png": "[encoded data removed]",
      "text/plain": [
       "plot without title"
      ]
     },
     "metadata": {},
     "output_type": "display_data"
    }
   ],
   "source": [
    "g1<- df_train %>%\n",
    "        ggplot(aes(x = Education, group = Attrition)) + \n",
    "        geom_bar(aes(y = ..prop.., fill = factor(..x..)), \n",
    "                 stat=\"count\", \n",
    "                 alpha = 0.7) +\n",
    "        geom_text(aes(label = scales::percent(..prop..), y = ..prop.. ), \n",
    "                  stat= \"count\", \n",
    "                  vjust = 2) +\n",
    "        labs(y = \"Percentage\", fill= \"Education\") +\n",
    "        facet_grid(~Attrition) +\n",
    "        theme_minimal()+\n",
    "        theme(legend.position = \"none\", plot.title = element_text(hjust = 0.5)) + \n",
    "        ggtitle(\"Attrition\")\n",
    "g2<- df_train %>%\n",
    "        group_by(Education, Attrition) %>%\n",
    "        tally() %>%\n",
    "        ggplot(aes(x = Education, y = n,fill=Attrition)) +\n",
    "        geom_bar(stat = \"identity\") +\n",
    "        theme_minimal()+\n",
    "        geom_text(aes(label = n), vjust = -0.5, position = position_dodge(0.9))+\n",
    "        labs(x=\"Education\", y=\"Number Attriation\")+\n",
    "        ggtitle(\"Attrition in regards to Education Level\")\n",
    "\n",
    "grid.arrange(g1,g2)"
   ]
  },
  {
   "cell_type": "code",
   "execution_count": 22,
   "metadata": {},
   "outputs": [
    {
     "data": {
      "image/png": "[encoded data removed]",
      "text/plain": [
       "plot without title"
      ]
     },
     "metadata": {},
     "output_type": "display_data"
    }
   ],
   "source": [
    "df_train %>%\n",
    "        ggplot(aes(x = MaritalStatus, group = Attrition)) + \n",
    "        geom_bar(aes(y = ..prop.., fill = factor(..x..)), \n",
    "                 stat=\"count\", \n",
    "                 alpha = 0.7) +\n",
    "        geom_text(aes(label = scales::percent(..prop..), y = ..prop.. ), \n",
    "                  stat= \"count\", \n",
    "                  vjust = -.5) +\n",
    "        labs(y = \"Percentage\", fill= \"MaritalStatus\") +\n",
    "        facet_grid(~Attrition) +\n",
    "        theme_minimal()+\n",
    "        theme(legend.position = \"none\", plot.title = element_text(hjust = 0.5)) + \n",
    "        ggtitle(\"Attrition\")"
   ]
  },
  {
   "cell_type": "code",
   "execution_count": 23,
   "metadata": {},
   "outputs": [
    {
     "data": {
      "image/png": "[encoded data removed]",
      "text/plain": [
       "plot without title"
      ]
     },
     "metadata": {},
     "output_type": "display_data"
    }
   ],
   "source": [
    "df_train %>%\n",
    "        ggplot(mapping = aes(x = MonthlyIncome)) + \n",
    "        geom_histogram(aes(fill = Attrition), bins=20)+\n",
    "        labs(x=\"Monthlt Income\", y=\"Number Attriation\")+\n",
    "        ggtitle(\"Attrition in regards to Monthly Income\")"
   ]
  },
  {
   "cell_type": "code",
   "execution_count": 24,
   "metadata": {},
   "outputs": [
    {
     "data": {
      "image/png": "[encoded data removed]",
      "text/plain": [
       "plot without title"
      ]
     },
     "metadata": {},
     "output_type": "display_data"
    }
   ],
   "source": [
    "g1<-df_train %>%\n",
    "        ggplot(aes(x = WorkLifeBalance, group = Attrition)) + \n",
    "        geom_bar(aes(y = ..prop.., fill = factor(..x..)), \n",
    "                 stat=\"count\", \n",
    "                 alpha = 0.7) +\n",
    "        geom_text(aes(label = scales::percent(..prop..), y = ..prop.. ), \n",
    "                  stat= \"count\", \n",
    "                  vjust = -.5) +\n",
    "        labs(y = \"Percentage\", fill= \"WorkLifeBalance\") +\n",
    "        facet_grid(~Attrition) +\n",
    "        theme_minimal()+\n",
    "        theme(legend.position = \"none\", plot.title = element_text(hjust = 0.5)) + \n",
    "        ggtitle(\"Attrition\")\n",
    "g2<- df_train %>%\n",
    "        group_by(WorkLifeBalance, Attrition) %>%\n",
    "        tally() %>%\n",
    "        ggplot(aes(x = WorkLifeBalance, y = n,fill=Attrition)) +\n",
    "        geom_bar(stat = \"identity\") +\n",
    "        theme_minimal()+\n",
    "        geom_text(aes(label = n), vjust = -0.5, position = position_dodge(0.9))+\n",
    "        labs(x=\"  Work Life Balance\", y=\"Number Attriation\")+\n",
    "        ggtitle(\"Attrition in regards to  Work Life Balance\")\n",
    "grid.arrange(g1,g2)"
   ]
  },
  {
   "cell_type": "markdown",
   "metadata": {},
   "source": [
    "# ONEHot encoding"
   ]
  },
  {
   "cell_type": "code",
   "execution_count": 105,
   "metadata": {},
   "outputs": [],
   "source": [
    "library(mltools)\n",
    "library(data.table)"
   ]
  },
  {
   "cell_type": "code",
   "execution_count": 106,
   "metadata": {},
   "outputs": [],
   "source": [
    "df_train$Attrition<-ifelse(df_train$Attrition==\"No\",'0',df_train$Attrition)\n",
    "\n",
    "df_train$Attrition<-ifelse(df_train$Attrition==\"Yes\",'1',df_train$Attrition)\n",
    "\n",
    "df_train$Attrition<-ifelse(df_train$Attrition==\"2\",'1',df_train$Attrition)"
   ]
  },
  {
   "cell_type": "code",
   "execution_count": 107,
   "metadata": {},
   "outputs": [
    {
     "data": {
      "text/plain": [
       "\n",
       "   0    1 \n",
       "1233  237 "
      ]
     },
     "metadata": {},
     "output_type": "display_data"
    }
   ],
   "source": [
    "table(df_train$Attrition)"
   ]
  },
  {
   "cell_type": "code",
   "execution_count": 108,
   "metadata": {},
   "outputs": [],
   "source": [
    "df_train$Attrition<-as.numeric(df_train$Attrition)"
   ]
  },
  {
   "cell_type": "code",
   "execution_count": 109,
   "metadata": {},
   "outputs": [],
   "source": [
    "en_data <- one_hot(as.data.table(df_train))"
   ]
  },
  {
   "cell_type": "code",
   "execution_count": 110,
   "metadata": {},
   "outputs": [],
   "source": [
    "smp_size = floor(nrow(en_data)*0.8)\n",
    "traindata_en = sample(nrow(en_data),size=smp_size)\n",
    "set.seed(12345)\n",
    "train = en_data[traindata_en,]\n",
    "test = en_data[-traindata_en,]"
   ]
  },
  {
   "cell_type": "code",
   "execution_count": 230,
   "metadata": {},
   "outputs": [],
   "source": [
    "train_tree=train\n",
    "test_tree=test\n",
    "train_rnd=train\n",
    "test_rnd=test\n",
    "train_bn=train\n",
    "test_bn=test\n",
    "train_svm=train\n",
    "test_svm=test\n"
   ]
  },
  {
   "cell_type": "code",
   "execution_count": 63,
   "metadata": {},
   "outputs": [],
   "source": [
    "Log_onemodel <- glm(Attrition~.,train,family=binomial())"
   ]
  },
  {
   "cell_type": "code",
   "execution_count": 64,
   "metadata": {},
   "outputs": [
    {
     "data": {
      "text/plain": [
       "\n",
       "Call:  glm(formula = Attrition ~ ., family = binomial(), data = train)\n",
       "\n",
       "Coefficients:\n",
       "                        (Intercept)                                  Age  \n",
       "                          8.273e+00                           -2.627e-02  \n",
       "        `BusinessTravel_Non-Travel`     BusinessTravel_Travel_Frequently  \n",
       "                         -1.315e+00                            7.876e-01  \n",
       "       BusinessTravel_Travel_Rarely                            DailyRate  \n",
       "                                 NA                           -1.197e-04  \n",
       "       `Department_Human Resources`  `Department_Research & Development`  \n",
       "                         -1.342e+01                            7.942e-01  \n",
       "                   Department_Sales                     DistanceFromHome  \n",
       "                                 NA                            4.481e-02  \n",
       "                          Education     `EducationField_Human Resources`  \n",
       "                          1.036e-01                           -2.556e-01  \n",
       "     `EducationField_Life Sciences`             EducationField_Marketing  \n",
       "                         -8.197e-01                           -5.626e-01  \n",
       "             EducationField_Medical                 EducationField_Other  \n",
       "                         -8.082e-01                           -6.374e-01  \n",
       "  `EducationField_Technical Degree`                        EmployeeCount  \n",
       "                                 NA                                   NA  \n",
       "                     EmployeeNumber              EnvironmentSatisfaction  \n",
       "                         -1.399e-04                           -4.286e-01  \n",
       "                      Gender_Female                          Gender_Male  \n",
       "                         -5.813e-01                                   NA  \n",
       "                         HourlyRate                       JobInvolvement  \n",
       "                          4.735e-03                           -4.952e-01  \n",
       "                           JobLevel  `JobRole_Healthcare Representative`  \n",
       "                         -1.067e-01                           -3.597e+00  \n",
       "          `JobRole_Human Resources`      `JobRole_Laboratory Technician`  \n",
       "                          1.258e+01                           -1.352e+00  \n",
       "                    JobRole_Manager     `JobRole_Manufacturing Director`  \n",
       "                         -2.571e+00                           -2.778e+00  \n",
       "        `JobRole_Research Director`         `JobRole_Research Scientist`  \n",
       "                         -4.210e+00                           -2.615e+00  \n",
       "          `JobRole_Sales Executive`       `JobRole_Sales Representative`  \n",
       "                         -9.122e-01                                   NA  \n",
       "                    JobSatisfaction               MaritalStatus_Divorced  \n",
       "                         -3.760e-01                           -1.011e+00  \n",
       "              MaritalStatus_Married                 MaritalStatus_Single  \n",
       "                         -8.178e-01                                   NA  \n",
       "                      MonthlyIncome                          MonthlyRate  \n",
       "                         -2.562e-05                            1.129e-05  \n",
       "                 NumCompaniesWorked                             Over18_Y  \n",
       "                          1.902e-01                                   NA  \n",
       "                        OverTime_No                         OverTime_Yes  \n",
       "                         -1.930e+00                                   NA  \n",
       "                  PercentSalaryHike                    PerformanceRating  \n",
       "                         -3.861e-02                            7.262e-02  \n",
       "           RelationshipSatisfaction                        StandardHours  \n",
       "                         -1.960e-01                                   NA  \n",
       "                   StockOptionLevel                    TotalWorkingYears  \n",
       "                         -2.191e-01                           -3.620e-02  \n",
       "              TrainingTimesLastYear                      WorkLifeBalance  \n",
       "                         -1.636e-01                           -3.902e-01  \n",
       "                     YearsAtCompany                   YearsInCurrentRole  \n",
       "                          1.266e-01                           -1.482e-01  \n",
       "            YearsSinceLastPromotion                 YearsWithCurrManager  \n",
       "                          1.830e-01                           -2.102e-01  \n",
       "\n",
       "Degrees of Freedom: 1175 Total (i.e. Null);  1130 Residual\n",
       "Null Deviance:\t    1037 \n",
       "Residual Deviance: 680.5 \tAIC: 772.5"
      ]
     },
     "metadata": {},
     "output_type": "display_data"
    }
   ],
   "source": [
    "Log_onemodel"
   ]
  },
  {
   "cell_type": "code",
   "execution_count": 65,
   "metadata": {},
   "outputs": [],
   "source": [
    "Log_onetrainpred <- predict(Log_onemodel,train,type='response')\n",
    "Log_onepred <- predict(Log_onemodel,test,type = 'response')"
   ]
  },
  {
   "cell_type": "code",
   "execution_count": 66,
   "metadata": {},
   "outputs": [],
   "source": [
    "train$Log_onetrainpred <- ifelse(Log_onetrainpred<0.5,0,1)\n",
    "test$Log_onepred <- ifelse(Log_onepred<0.5,0,1)"
   ]
  },
  {
   "cell_type": "code",
   "execution_count": 67,
   "metadata": {},
   "outputs": [
    {
     "data": {
      "text/plain": [
       "   \n",
       "      0   1\n",
       "  0 963  24\n",
       "  1  97  92"
      ]
     },
     "metadata": {},
     "output_type": "display_data"
    }
   ],
   "source": [
    "conf_matrix<-table(train$Attrition,train$Log_onetrainpred)\n",
    "conf_matrix"
   ]
  },
  {
   "cell_type": "code",
   "execution_count": 68,
   "metadata": {},
   "outputs": [
    {
     "data": {
      "text/plain": [
       "         Log_onepred\n",
       "Attrition   0   1\n",
       "        0 236  10\n",
       "        1  29  19"
      ]
     },
     "metadata": {},
     "output_type": "display_data"
    }
   ],
   "source": [
    "xtabs(~Attrition+Log_onepred,data=test)"
   ]
  },
  {
   "cell_type": "code",
   "execution_count": 69,
   "metadata": {},
   "outputs": [
    {
     "name": "stdout",
     "output_type": "stream",
     "text": [
      "[1] \"The Sensitivity :\"\n"
     ]
    }
   ],
   "source": [
    "sensitivity(conf_matrix)"
   ]
  },
  {
   "cell_type": "code",
   "execution_count": 70,
   "metadata": {},
   "outputs": [
    {
     "data": {
      "text/html": [
       "0.793103448275862"
      ],
      "text/latex": [
       "0.793103448275862"
      ],
      "text/markdown": [
       "0.793103448275862"
      ],
      "text/plain": [
       "[1] 0.7931034"
      ]
     },
     "metadata": {},
     "output_type": "display_data"
    }
   ],
   "source": [
    "specificity(conf_matrix)"
   ]
  },
  {
   "cell_type": "code",
   "execution_count": 71,
   "metadata": {},
   "outputs": [
    {
     "data": {
      "text/html": [
       "0.975683890577508"
      ],
      "text/latex": [
       "0.975683890577508"
      ],
      "text/markdown": [
       "0.975683890577508"
      ],
      "text/plain": [
       "[1] 0.9756839"
      ]
     },
     "metadata": {},
     "output_type": "display_data"
    }
   ],
   "source": [
    "precision(conf_matrix)"
   ]
  },
  {
   "cell_type": "code",
   "execution_count": 72,
   "metadata": {},
   "outputs": [
    {
     "name": "stderr",
     "output_type": "stream",
     "text": [
      "Setting levels: control = 0, case = 1\n",
      "Setting direction: controls < cases\n"
     ]
    },
    {
     "data": {
      "text/plain": [
       "\n",
       "Call:\n",
       "roc.default(response = train$Log_onetrainpred, predictor = train$Attrition)\n",
       "\n",
       "Data: train$Attrition in 1060 controls (train$Log_onetrainpred 0) < 116 cases (train$Log_onetrainpred 1).\n",
       "Area under the curve: 0.8508"
      ]
     },
     "metadata": {},
     "output_type": "display_data"
    }
   ],
   "source": [
    "roc(train$Log_onetrainpred,train$Attrition)"
   ]
  },
  {
   "cell_type": "markdown",
   "metadata": {},
   "source": [
    "# Decision tree"
   ]
  },
  {
   "cell_type": "code",
   "execution_count": 73,
   "metadata": {},
   "outputs": [],
   "source": [
    "tree <- rpart(Attrition~.,train_tree,method = 'class')"
   ]
  },
  {
   "cell_type": "code",
   "execution_count": 75,
   "metadata": {},
   "outputs": [
    {
     "data": {
      "text/plain": [
       "n= 1176 \n",
       "\n",
       "node), split, n, loss, yval, (yprob)\n",
       "      * denotes terminal node\n",
       "\n",
       "  1) root 1176 189 0 (0.83928571 0.16071429)  \n",
       "    2) OverTime_No>=0.5 842  88 0 (0.89548694 0.10451306)  \n",
       "      4) TotalWorkingYears>=2.5 773  65 0 (0.91591203 0.08408797)  \n",
       "        8) NumCompaniesWorked< 4.5 588  37 0 (0.93707483 0.06292517) *\n",
       "        9) NumCompaniesWorked>=4.5 185  28 0 (0.84864865 0.15135135)  \n",
       "         18) Age>=37.5 100   7 0 (0.93000000 0.07000000) *\n",
       "         19) Age< 37.5 85  21 0 (0.75294118 0.24705882)  \n",
       "           38) StockOptionLevel>=0.5 51   4 0 (0.92156863 0.07843137) *\n",
       "           39) StockOptionLevel< 0.5 34  17 0 (0.50000000 0.50000000)  \n",
       "             78) NumCompaniesWorked>=7.5 13   2 0 (0.84615385 0.15384615) *\n",
       "             79) NumCompaniesWorked< 7.5 21   6 1 (0.28571429 0.71428571) *\n",
       "      5) TotalWorkingYears< 2.5 69  23 0 (0.66666667 0.33333333)  \n",
       "       10) JobRole_Research Scientist>=0.5 22   1 0 (0.95454545 0.04545455) *\n",
       "       11) JobRole_Research Scientist< 0.5 47  22 0 (0.53191489 0.46808511)  \n",
       "         22) EnvironmentSatisfaction>=1.5 39  14 0 (0.64102564 0.35897436)  \n",
       "           44) DailyRate>=517 25   5 0 (0.80000000 0.20000000) *\n",
       "           45) DailyRate< 517 14   5 1 (0.35714286 0.64285714) *\n",
       "         23) EnvironmentSatisfaction< 1.5 8   0 1 (0.00000000 1.00000000) *\n",
       "    3) OverTime_No< 0.5 334 101 0 (0.69760479 0.30239521)  \n",
       "      6) MonthlyIncome>=3751.5 228  42 0 (0.81578947 0.18421053)  \n",
       "       12) JobRole_Sales Executive< 0.5 147  11 0 (0.92517007 0.07482993) *\n",
       "       13) JobRole_Sales Executive>=0.5 81  31 0 (0.61728395 0.38271605)  \n",
       "         26) MaritalStatus_Single< 0.5 51  11 0 (0.78431373 0.21568627)  \n",
       "           52) DistanceFromHome< 12.5 39   4 0 (0.89743590 0.10256410) *\n",
       "           53) DistanceFromHome>=12.5 12   5 1 (0.41666667 0.58333333) *\n",
       "         27) MaritalStatus_Single>=0.5 30  10 1 (0.33333333 0.66666667) *\n",
       "      7) MonthlyIncome< 3751.5 106  47 1 (0.44339623 0.55660377)  \n",
       "       14) EnvironmentSatisfaction>=1.5 87  42 0 (0.51724138 0.48275862)  \n",
       "         28) YearsWithCurrManager>=0.5 57  20 0 (0.64912281 0.35087719)  \n",
       "           56) DailyRate>=937.5 23   2 0 (0.91304348 0.08695652) *\n",
       "           57) DailyRate< 937.5 34  16 1 (0.47058824 0.52941176)  \n",
       "            114) MonthlyIncome>=2497.5 21   7 0 (0.66666667 0.33333333) *\n",
       "            115) MonthlyIncome< 2497.5 13   2 1 (0.15384615 0.84615385) *\n",
       "         29) YearsWithCurrManager< 0.5 30   8 1 (0.26666667 0.73333333) *\n",
       "       15) EnvironmentSatisfaction< 1.5 19   2 1 (0.10526316 0.89473684) *"
      ]
     },
     "metadata": {},
     "output_type": "display_data"
    }
   ],
   "source": [
    "tree"
   ]
  },
  {
   "cell_type": "code",
   "execution_count": 76,
   "metadata": {},
   "outputs": [
    {
     "data": {
      "image/png": "[encoded data removed]",
      "text/plain": [
       "plot without title"
      ]
     },
     "metadata": {},
     "output_type": "display_data"
    }
   ],
   "source": [
    "rpart.plot(tree)"
   ]
  },
  {
   "cell_type": "code",
   "execution_count": 77,
   "metadata": {},
   "outputs": [],
   "source": [
    "train_tree$predict <-predict(tree,train_tree,type='class')"
   ]
  },
  {
   "cell_type": "code",
   "execution_count": 81,
   "metadata": {},
   "outputs": [
    {
     "data": {
      "text/plain": [
       "$accuracyNum\n",
       "   ypred\n",
       "y     0   1\n",
       "  0 949  80\n",
       "  1  38 109\n",
       "\n",
       "$accuracyPer\n",
       "   ypred\n",
       "y       0     1\n",
       "  0 92.23  7.77\n",
       "  1 25.85 74.15\n",
       "\n",
       "$overallAcc\n",
       "[1] 89.97\n"
      ]
     },
     "metadata": {},
     "output_type": "display_data"
    }
   ],
   "source": [
    "accuracy(train_tree$predict,train_tree$Attrition,0.5)"
   ]
  },
  {
   "cell_type": "code",
   "execution_count": 82,
   "metadata": {},
   "outputs": [
    {
     "data": {
      "text/plain": [
       "   \n",
       "      0   1\n",
       "  0 949  38\n",
       "  1  80 109"
      ]
     },
     "metadata": {},
     "output_type": "display_data"
    }
   ],
   "source": [
    "conf_matrix<-table(train_tree$Attrition,train_tree$predict)\n",
    "conf_matrix"
   ]
  },
  {
   "cell_type": "code",
   "execution_count": 83,
   "metadata": {},
   "outputs": [
    {
     "data": {
      "text/html": [
       "0.922254616132167"
      ],
      "text/latex": [
       "0.922254616132167"
      ],
      "text/markdown": [
       "0.922254616132167"
      ],
      "text/plain": [
       "[1] 0.9222546"
      ]
     },
     "metadata": {},
     "output_type": "display_data"
    }
   ],
   "source": [
    "sensitivity(conf_matrix)"
   ]
  },
  {
   "cell_type": "code",
   "execution_count": 84,
   "metadata": {},
   "outputs": [
    {
     "data": {
      "text/html": [
       "0.741496598639456"
      ],
      "text/latex": [
       "0.741496598639456"
      ],
      "text/markdown": [
       "0.741496598639456"
      ],
      "text/plain": [
       "[1] 0.7414966"
      ]
     },
     "metadata": {},
     "output_type": "display_data"
    }
   ],
   "source": [
    "specificity(conf_matrix)"
   ]
  },
  {
   "cell_type": "code",
   "execution_count": 85,
   "metadata": {},
   "outputs": [
    {
     "data": {
      "text/html": [
       "0.961499493414387"
      ],
      "text/latex": [
       "0.961499493414387"
      ],
      "text/markdown": [
       "0.961499493414387"
      ],
      "text/plain": [
       "[1] 0.9614995"
      ]
     },
     "metadata": {},
     "output_type": "display_data"
    }
   ],
   "source": [
    "precision(conf_matrix)"
   ]
  },
  {
   "cell_type": "code",
   "execution_count": 87,
   "metadata": {},
   "outputs": [
    {
     "name": "stderr",
     "output_type": "stream",
     "text": [
      "Setting levels: control = 0, case = 1\n",
      "Setting direction: controls < cases\n"
     ]
    },
    {
     "data": {
      "text/plain": [
       "\n",
       "Call:\n",
       "roc.default(response = train_tree$predict, predictor = train_tree$Attrition)\n",
       "\n",
       "Data: train_tree$Attrition in 1029 controls (train_tree$predict 0) < 147 cases (train_tree$predict 1).\n",
       "Area under the curve: 0.8319"
      ]
     },
     "metadata": {},
     "output_type": "display_data"
    }
   ],
   "source": [
    "roc(train_tree$predict,train_tree$Attrition)"
   ]
  },
  {
   "cell_type": "markdown",
   "metadata": {},
   "source": [
    "## XGBOOST"
   ]
  },
  {
   "cell_type": "code",
   "execution_count": 122,
   "metadata": {
    "scrolled": true
   },
   "outputs": [],
   "source": [
    "library(xgboost)"
   ]
  },
  {
   "cell_type": "code",
   "execution_count": 126,
   "metadata": {},
   "outputs": [],
   "source": [
    "dMtrain <- xgb.DMatrix(as.matrix(train_rnd %>% select(-Attrition)), label = train_rnd$Attrition)"
   ]
  },
  {
   "cell_type": "code",
   "execution_count": 127,
   "metadata": {},
   "outputs": [],
   "source": [
    "params <- list(\n",
    "  \"objective\"           = \"binary:logistic\",\n",
    "  \"eval_metric\"         = \"auc\",\n",
    "  \"eta\"                 = 0.012,\n",
    "  \"subsample\"           = 0.8,\n",
    "  \"max_depth\"           = 8,\n",
    "  \"colsample_bytree\"    =0.9,\n",
    "  \"min_child_weight\"    = 5\n",
    ")"
   ]
  },
  {
   "cell_type": "code",
   "execution_count": 129,
   "metadata": {},
   "outputs": [
    {
     "name": "stdout",
     "output_type": "stream",
     "text": [
      "[1]\ttrain-auc:0.800247+0.006760\ttest-auc:0.681848+0.051291 \n",
      "Multiple eval metrics are present. Will use test_auc for early stopping.\n",
      "Will train until test_auc hasn't improved in 100 rounds.\n",
      "\n",
      "[101]\ttrain-auc:0.938933+0.004687\ttest-auc:0.807015+0.031724 \n",
      "[201]\ttrain-auc:0.962928+0.003615\ttest-auc:0.819004+0.033304 \n",
      "[301]\ttrain-auc:0.975220+0.002470\ttest-auc:0.820583+0.033588 \n",
      "[401]\ttrain-auc:0.984485+0.002137\ttest-auc:0.821974+0.033503 \n",
      "[501]\ttrain-auc:0.990019+0.001651\ttest-auc:0.822885+0.034202 \n",
      "[601]\ttrain-auc:0.993751+0.001189\ttest-auc:0.822019+0.033683 \n",
      "Stopping. Best iteration:\n",
      "[506]\ttrain-auc:0.990292+0.001642\ttest-auc:0.823218+0.034319\n",
      "\n"
     ]
    }
   ],
   "source": [
    "model_xgb.cv <- xgb.cv(params=params,\n",
    "                      data = dMtrain, \n",
    "                      maximize = TRUE,\n",
    "                      nfold = 5,\n",
    "                      nrounds = 5000,\n",
    "                      nthread = 3,\n",
    "                      early_stopping_round=100,\n",
    "                      print_every_n=100)"
   ]
  },
  {
   "cell_type": "code",
   "execution_count": 130,
   "metadata": {},
   "outputs": [
    {
     "name": "stdout",
     "output_type": "stream",
     "text": [
      "[1]\ttrain-auc:0.771279 \n",
      "Will train until train_auc hasn't improved in 100 rounds.\n",
      "\n",
      "[101]\ttrain-auc:0.941247 \n",
      "[201]\ttrain-auc:0.964537 \n",
      "[301]\ttrain-auc:0.978088 \n",
      "[401]\ttrain-auc:0.986465 \n",
      "[501]\ttrain-auc:0.991305 \n",
      "[601]\ttrain-auc:0.994864 \n",
      "[701]\ttrain-auc:0.997055 \n",
      "[801]\ttrain-auc:0.998223 \n",
      "[901]\ttrain-auc:0.998891 \n",
      "[1001]\ttrain-auc:0.999408 \n",
      "[1101]\ttrain-auc:0.999704 \n",
      "[1201]\ttrain-auc:0.999838 \n",
      "[1301]\ttrain-auc:0.999892 \n",
      "[1401]\ttrain-auc:0.999946 \n",
      "[1501]\ttrain-auc:0.999989 \n",
      "Stopping. Best iteration:\n",
      "[1496]\ttrain-auc:0.999989\n",
      "\n"
     ]
    }
   ],
   "source": [
    "model_xgb <- xgboost(params=params,\n",
    "                      data = dMtrain, \n",
    "                      maximize = TRUE,\n",
    "                      nrounds = 5000,\n",
    "                      nthread = 3,\n",
    "                      early_stopping_round=100,\n",
    "                      print_every_n=100)"
   ]
  },
  {
   "cell_type": "code",
   "execution_count": 131,
   "metadata": {},
   "outputs": [],
   "source": [
    "xgb_trainpred <- predict(model_xgb,dMtrain)"
   ]
  },
  {
   "cell_type": "code",
   "execution_count": 132,
   "metadata": {},
   "outputs": [],
   "source": [
    "train_rnd$xgb_trainpred <- ifelse(xgb_trainpred < 0.5,0,1)"
   ]
  },
  {
   "cell_type": "code",
   "execution_count": 135,
   "metadata": {},
   "outputs": [
    {
     "data": {
      "text/plain": [
       "$accuracyNum\n",
       "   ypred\n",
       "y     0   1\n",
       "  0 988   7\n",
       "  1   0 181\n",
       "\n",
       "$accuracyPer\n",
       "   ypred\n",
       "y       0     1\n",
       "  0  99.3   0.7\n",
       "  1   0.0 100.0\n",
       "\n",
       "$overallAcc\n",
       "[1] 99.4\n"
      ]
     },
     "metadata": {},
     "output_type": "display_data"
    }
   ],
   "source": [
    "accuracy(train_rnd$xgb_trainpred,train_rnd$Attrition,0.5)"
   ]
  },
  {
   "cell_type": "code",
   "execution_count": 137,
   "metadata": {},
   "outputs": [
    {
     "data": {
      "text/plain": [
       "   \n",
       "      0   1\n",
       "  0 988   7\n",
       "  1   0 181"
      ]
     },
     "metadata": {},
     "output_type": "display_data"
    }
   ],
   "source": [
    "conf_matrix<-table(train_rnd$xgb_trainpred,train_rnd$Attrition)\n",
    "conf_matrix"
   ]
  },
  {
   "cell_type": "code",
   "execution_count": 138,
   "metadata": {},
   "outputs": [
    {
     "data": {
      "text/html": [
       "1"
      ],
      "text/latex": [
       "1"
      ],
      "text/markdown": [
       "1"
      ],
      "text/plain": [
       "[1] 1"
      ]
     },
     "metadata": {},
     "output_type": "display_data"
    }
   ],
   "source": [
    "sensitivity(conf_matrix)"
   ]
  },
  {
   "cell_type": "code",
   "execution_count": 139,
   "metadata": {},
   "outputs": [
    {
     "data": {
      "text/html": [
       "0.962765957446808"
      ],
      "text/latex": [
       "0.962765957446808"
      ],
      "text/markdown": [
       "0.962765957446808"
      ],
      "text/plain": [
       "[1] 0.962766"
      ]
     },
     "metadata": {},
     "output_type": "display_data"
    }
   ],
   "source": [
    "specificity(conf_matrix)"
   ]
  },
  {
   "cell_type": "code",
   "execution_count": 140,
   "metadata": {},
   "outputs": [
    {
     "data": {
      "text/html": [
       "0.992964824120603"
      ],
      "text/latex": [
       "0.992964824120603"
      ],
      "text/markdown": [
       "0.992964824120603"
      ],
      "text/plain": [
       "[1] 0.9929648"
      ]
     },
     "metadata": {},
     "output_type": "display_data"
    }
   ],
   "source": [
    "precision(conf_matrix)"
   ]
  },
  {
   "cell_type": "code",
   "execution_count": 141,
   "metadata": {},
   "outputs": [
    {
     "name": "stderr",
     "output_type": "stream",
     "text": [
      "Setting levels: control = 0, case = 1\n",
      "Setting direction: controls < cases\n"
     ]
    },
    {
     "data": {
      "text/plain": [
       "\n",
       "Call:\n",
       "roc.default(response = train_rnd$xgb_trainpred, predictor = train_rnd$Attrition)\n",
       "\n",
       "Data: train_rnd$Attrition in 995 controls (train_rnd$xgb_trainpred 0) < 181 cases (train_rnd$xgb_trainpred 1).\n",
       "Area under the curve: 0.9965"
      ]
     },
     "metadata": {},
     "output_type": "display_data"
    }
   ],
   "source": [
    "roc(train_rnd$xgb_trainpred,train_rnd$Attrition)"
   ]
  },
  {
   "cell_type": "markdown",
   "metadata": {},
   "source": [
    "## Support Vector Machiene"
   ]
  },
  {
   "cell_type": "code",
   "execution_count": 201,
   "metadata": {},
   "outputs": [],
   "source": [
    "library(e1071)\n",
    "set.seed(23)"
   ]
  },
  {
   "cell_type": "code",
   "execution_count": 231,
   "metadata": {},
   "outputs": [],
   "source": [
    "svm_model <- svm(Attrition~ ., data = train_svm)"
   ]
  },
  {
   "cell_type": "code",
   "execution_count": 232,
   "metadata": {},
   "outputs": [
    {
     "data": {
      "text/plain": [
       "\n",
       "Call:\n",
       "svm(formula = Attrition ~ ., data = train_svm)\n",
       "\n",
       "\n",
       "Parameters:\n",
       "   SVM-Type:  eps-regression \n",
       " SVM-Kernel:  radial \n",
       "       cost:  1 \n",
       "      gamma:  0.01818182 \n",
       "    epsilon:  0.1 \n",
       "\n",
       "\n",
       "Number of Support Vectors:  1176\n",
       "\n",
       "\n",
       "\n",
       "\n"
      ]
     },
     "metadata": {},
     "output_type": "display_data"
    }
   ],
   "source": [
    "summary(svm_model1)"
   ]
  },
  {
   "cell_type": "code",
   "execution_count": 233,
   "metadata": {},
   "outputs": [],
   "source": [
    "svm_trainpredict <- predict(svm_model,train_svm)\n",
    "svm_testpredict <- predict(svm_model,test_svm)"
   ]
  },
  {
   "cell_type": "code",
   "execution_count": 234,
   "metadata": {},
   "outputs": [],
   "source": [
    "train_svm$svm_trainpredict <- ifelse(svm_trainpredict<0.5,0,1)\n",
    "\n",
    "\n",
    "test_svm$svm_testpredict <- ifelse(svm_testpredict<0.5,0,1)"
   ]
  },
  {
   "cell_type": "code",
   "execution_count": 235,
   "metadata": {},
   "outputs": [
    {
     "data": {
      "text/plain": [
       "$accuracyNum\n",
       "   ypred\n",
       "y     0   1\n",
       "  0 988   0\n",
       "  1   0 188\n",
       "\n",
       "$accuracyPer\n",
       "   ypred\n",
       "y     0   1\n",
       "  0 100   0\n",
       "  1   0 100\n",
       "\n",
       "$overallAcc\n",
       "[1] 100\n"
      ]
     },
     "metadata": {},
     "output_type": "display_data"
    }
   ],
   "source": [
    "accuracy(train_svm$svm_trainpredict,train_svm$Attrition,0.5)"
   ]
  },
  {
   "cell_type": "code",
   "execution_count": 239,
   "metadata": {},
   "outputs": [
    {
     "name": "stdout",
     "output_type": "stream",
     "text": [
      "[1] \"svm model is the best model with 100 % accuracy\"\n"
     ]
    }
   ],
   "source": [
    "print(\"svm model is the best model with 100 % accuracy\" )"
   ]
  },
  {
   "cell_type": "code",
   "execution_count": null,
   "metadata": {},
   "outputs": [],
   "source": []
  }
 ],
 "metadata": {
  "kernelspec": {
   "display_name": "R",
   "language": "R",
   "name": "ir"
  },
  "language_info": {
   "codemirror_mode": "r",
   "file_extension": ".r",
   "mimetype": "text/x-r-source",
   "name": "R",
   "pygments_lexer": "r",
   "version": "3.6.1"
  }
 },
 "nbformat": 4,
 "nbformat_minor": 2
}
